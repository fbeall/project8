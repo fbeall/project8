{
 "cells": [
  {
   "cell_type": "code",
   "execution_count": 1,
   "id": "bb015388",
   "metadata": {},
   "outputs": [],
   "source": [
    "import pandas as pd"
   ]
  },
  {
   "cell_type": "code",
   "execution_count": 2,
   "id": "0c0f61e9",
   "metadata": {},
   "outputs": [],
   "source": [
    "import numpy as np"
   ]
  },
  {
   "cell_type": "code",
   "execution_count": null,
   "id": "836ee5ed",
   "metadata": {},
   "outputs": [],
   "source": [
    "# importing data containing wavelength info"
   ]
  },
  {
   "cell_type": "code",
   "execution_count": 24,
   "id": "d51ba006",
   "metadata": {},
   "outputs": [],
   "source": [
    "file1 = '/Users/feb9528/Desktop/files/10.000kOhm.csv'\n",
    "file2 = '/Users/feb9528/Desktop/files/12.323kOhm.csv'\n",
    "file3 = '/Users/feb9528/Desktop/files/14.001kOhm.csv'\n",
    "file4 = '/Users/feb9528/Desktop/files/16.004kOhm.csv'\n",
    "file5 = '/Users/feb9528/Desktop/files/18.002kOhm.csv'\n",
    "file6 = '/Users/feb9528/Desktop/files/20.002kOhm.csv'"
   ]
  },
  {
   "cell_type": "code",
   "execution_count": 85,
   "id": "537f8903",
   "metadata": {},
   "outputs": [],
   "source": [
    "df1 = pd.read_csv(file1, skiprows=[0], usecols=[2])\n",
    "df2 = pd.read_csv(file2, skiprows=[0], usecols=[2])\n",
    "df3 = pd.read_csv(file3, skiprows=[0], usecols=[2])\n",
    "df4 = pd.read_csv(file4, skiprows=[0], usecols=[2])\n",
    "df5 = pd.read_csv(file5, skiprows=[0], usecols=[2])\n",
    "df6 = pd.read_csv(file6, skiprows=[0], usecols=[2])"
   ]
  },
  {
   "cell_type": "code",
   "execution_count": 87,
   "id": "72580937",
   "metadata": {},
   "outputs": [],
   "source": [
    "df1 = df1.dropna()\n",
    "df2 = df2.dropna()\n",
    "df3 = df3.dropna()\n",
    "df4 = df4.dropna()\n",
    "df5 = df5.dropna()\n",
    "df6 = df6.dropna()"
   ]
  },
  {
   "cell_type": "code",
   "execution_count": 90,
   "id": "2eb76386",
   "metadata": {},
   "outputs": [],
   "source": [
    "lambda1 = df1.values\n",
    "lambda2 = df2.values\n",
    "lambda3 = df3.values\n",
    "lambda4 = df4.values\n",
    "lambda5 = df5.values\n",
    "lambda6 = df6.values"
   ]
  },
  {
   "cell_type": "code",
   "execution_count": null,
   "id": "224a3226",
   "metadata": {},
   "outputs": [],
   "source": []
  },
  {
   "cell_type": "code",
   "execution_count": 100,
   "id": "a2e8a3b5",
   "metadata": {},
   "outputs": [],
   "source": [
    "# Finding average wavelength of each data run"
   ]
  },
  {
   "cell_type": "code",
   "execution_count": 158,
   "id": "59ef3e43",
   "metadata": {},
   "outputs": [],
   "source": [
    "# append wavelengths to a list\n",
    "wavelengths = []"
   ]
  },
  {
   "cell_type": "code",
   "execution_count": 159,
   "id": "02f7aa17",
   "metadata": {},
   "outputs": [],
   "source": [
    "avg1 = 0\n",
    "for i in lambda1:\n",
    "    avg1 = avg1 + i[0]\n",
    "    \n",
    "avg1 = avg1/len(lambda1)\n",
    "wavelengths.append(avg1)\n",
    "\n",
    "avg2 = 0\n",
    "for i in lambda2:\n",
    "    avg2 = avg2 + i[0]\n",
    "    \n",
    "avg2 = avg2/len(lambda2)\n",
    "wavelengths.append(avg2)\n",
    "\n",
    "avg3 = 0\n",
    "for i in lambda3:\n",
    "    avg3 = avg3 + i[0]\n",
    "    \n",
    "avg3 = avg3/len(lambda3)\n",
    "wavelengths.append(avg3)\n",
    "\n",
    "avg4 = 0\n",
    "for i in lambda4:\n",
    "    avg4 = avg4 + i[0]\n",
    "    \n",
    "avg4 = avg4/len(lambda4)\n",
    "wavelengths.append(avg4)\n",
    "\n",
    "avg5 = 0\n",
    "for i in lambda5:\n",
    "    avg5 = avg5 + i[0]\n",
    "    \n",
    "avg5 = avg5/len(lambda5)\n",
    "wavelengths.append(avg5)\n",
    "\n",
    "avg6 = 0\n",
    "for i in lambda6:\n",
    "    avg6 = avg6 + i[0]\n",
    "    \n",
    "avg6 = avg6/len(lambda6)\n",
    "wavelengths.append(avg6)"
   ]
  },
  {
   "cell_type": "code",
   "execution_count": 160,
   "id": "e701e399",
   "metadata": {},
   "outputs": [
    {
     "data": {
      "text/plain": [
       "6"
      ]
     },
     "execution_count": 160,
     "metadata": {},
     "output_type": "execute_result"
    }
   ],
   "source": [
    "len(wavelengths)"
   ]
  },
  {
   "cell_type": "code",
   "execution_count": 110,
   "id": "9d10b8ee",
   "metadata": {},
   "outputs": [],
   "source": [
    "# list of resistances\n",
    "res = [10.000, 12.323, 14.001, 16.004, 18.002, 20.002]"
   ]
  },
  {
   "cell_type": "code",
   "execution_count": 26,
   "id": "38c661e0",
   "metadata": {},
   "outputs": [],
   "source": [
    "# Using the thermistor resistance to temperature forumula from Thorlabs TEC manual and specs of HL6756MG laser"
   ]
  },
  {
   "cell_type": "code",
   "execution_count": 138,
   "id": "c84f044d",
   "metadata": {},
   "outputs": [],
   "source": [
    "# nominal temperature in Kelvin\n",
    "T_o = 298.15\n",
    "\n",
    "# thermistor nominal resistance at nominal temperature in kOhm\n",
    "R_o = 10\n",
    "\n",
    "# energy constant/B value in Kelvin\n",
    "B = 3977\n",
    "\n",
    "# append temperatures to a list\n",
    "temps = []"
   ]
  },
  {
   "cell_type": "code",
   "execution_count": 139,
   "id": "40da5dbb",
   "metadata": {},
   "outputs": [],
   "source": [
    "# Converting resistance to temperature and changing temp in Kelvin to Celcius\n",
    "\n",
    "for i in range(0, len(wavelengths)):\n",
    "    T_K = (B * T_o)/((T_o * np.log(res[i]/R_o)) + B)\n",
    "    T_C = T_K - 273.15\n",
    "    temps.append(T_C)"
   ]
  },
  {
   "cell_type": "code",
   "execution_count": 171,
   "id": "7bb1a624",
   "metadata": {},
   "outputs": [
    {
     "data": {
      "text/plain": [
       "numpy.float64"
      ]
     },
     "execution_count": 171,
     "metadata": {},
     "output_type": "execute_result"
    }
   ],
   "source": [
    "type(temps[0])"
   ]
  },
  {
   "cell_type": "code",
   "execution_count": 126,
   "id": "211bca60",
   "metadata": {},
   "outputs": [],
   "source": [
    "# Plotting temperature vs wavelength graph"
   ]
  },
  {
   "cell_type": "code",
   "execution_count": 162,
   "id": "378b468c",
   "metadata": {},
   "outputs": [],
   "source": [
    "import matplotlib.pyplot as plt\n",
    "from scipy import stats "
   ]
  },
  {
   "cell_type": "code",
   "execution_count": null,
   "id": "1f98911f",
   "metadata": {},
   "outputs": [],
   "source": []
  },
  {
   "cell_type": "code",
   "execution_count": 173,
   "id": "3889044c",
   "metadata": {},
   "outputs": [],
   "source": [
    "# line fit of data\n",
    "fit = stats.linregress(wavelengths, temps)"
   ]
  },
  {
   "cell_type": "code",
   "execution_count": 192,
   "id": "cba85fdb",
   "metadata": {},
   "outputs": [
    {
     "data": {
      "image/png": "[encoded data removed]",
      "text/plain": [
       "<Figure size 640x480 with 1 Axes>"
      ]
     },
     "metadata": {},
     "output_type": "display_data"
    }
   ],
   "source": [
    "plt.plot(wavelengths, temps, 'o', label='original data')\n",
    "plt.plot(wavelengths, fit.intercept + fit.slope*np.array(wavelengths), 'r', label='fitted line')\n",
    "plt.legend()\n",
    "plt.xlabel('Wavelength (nm)')\n",
    "plt.ylabel('Temperature (C)')\n",
    "plt.grid(linewidth=0.1)\n",
    "plt.title('670 nm laser diode with temperature controller')\n",
    "# plt.txt? couldn't get it to work\n",
    "plt.show()"
   ]
  },
  {
   "cell_type": "code",
   "execution_count": 201,
   "id": "06a1ce27",
   "metadata": {},
   "outputs": [
    {
     "name": "stdout",
     "output_type": "stream",
     "text": [
      "5.7921207387812945\n"
     ]
    }
   ],
   "source": [
    "print(fit.slope)"
   ]
  },
  {
   "cell_type": "code",
   "execution_count": null,
   "id": "897a5682",
   "metadata": {},
   "outputs": [],
   "source": []
  },
  {
   "cell_type": "code",
   "execution_count": null,
   "id": "ac01d9cd",
   "metadata": {},
   "outputs": [],
   "source": []
  }
 ],
 "metadata": {
  "kernelspec": {
   "display_name": "Python 3 (ipykernel)",
   "language": "python",
   "name": "python3"
  },
  "language_info": {
   "codemirror_mode": {
    "name": "ipython",
    "version": 3
   },
   "file_extension": ".py",
   "mimetype": "text/x-python",
   "name": "python",
   "nbconvert_exporter": "python",
   "pygments_lexer": "ipython3",
   "version": "3.11.4"
  }
 },
 "nbformat": 4,
 "nbformat_minor": 5
}
