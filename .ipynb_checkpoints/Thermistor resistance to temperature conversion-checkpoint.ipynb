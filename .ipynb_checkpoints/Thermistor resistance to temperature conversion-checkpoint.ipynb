{
 "cells": [
  {
   "cell_type": "code",
   "execution_count": 2,
   "id": "5b8a7a21",
   "metadata": {},
   "outputs": [],
   "source": [
    "import numpy as np"
   ]
  },
  {
   "cell_type": "code",
   "execution_count": 3,
   "id": "85114898",
   "metadata": {},
   "outputs": [],
   "source": [
    "# Using the thermistor resistance to temperature formula from Thorlabs TEC manual and specs of HL6756MG laser"
   ]
  },
  {
   "cell_type": "code",
   "execution_count": 4,
   "id": "aa26a00e",
   "metadata": {},
   "outputs": [],
   "source": [
    "# nominal temperature in Kelvin\n",
    "T_o = 298.15\n",
    "\n",
    "# thermistor nominal resistance at nominal temperature in kOhm\n",
    "R_o = 10\n",
    "\n",
    "# energy constant/B value in Kelvin\n",
    "B = 3977\n",
    "\n",
    "# set resistance in kOhm\n",
    "res = 18"
   ]
  },
  {
   "cell_type": "code",
   "execution_count": 5,
   "id": "12430aa4",
   "metadata": {},
   "outputs": [
    {
     "name": "stdout",
     "output_type": "stream",
     "text": [
      "12.416367985109787\n"
     ]
    }
   ],
   "source": [
    "# Converting resistance to temperature and changing temp in Kelvin to Celcius\n",
    "\n",
    "T_K = (B * T_o)/((T_o * np.log(res/R_o)) + B)\n",
    "T_C = T_K - 273.15\n",
    "\n",
    "print(T_C)"
   ]
  },
  {
   "cell_type": "code",
   "execution_count": null,
   "id": "1660b143",
   "metadata": {},
   "outputs": [],
   "source": []
  },
  {
   "cell_type": "code",
   "execution_count": 6,
   "id": "174e2c1d",
   "metadata": {},
   "outputs": [],
   "source": [
    "# Using temperature to resistance formula from Thorlabs TEC manual and specs of HL6756MG laser (16C)"
   ]
  },
  {
   "cell_type": "code",
   "execution_count": null,
   "id": "6264fa39",
   "metadata": {},
   "outputs": [],
   "source": []
  }
 ],
 "metadata": {
  "kernelspec": {
   "display_name": "Python 3 (ipykernel)",
   "language": "python",
   "name": "python3"
  },
  "language_info": {
   "codemirror_mode": {
    "name": "ipython",
    "version": 3
   },
   "file_extension": ".py",
   "mimetype": "text/x-python",
   "name": "python",
   "nbconvert_exporter": "python",
   "pygments_lexer": "ipython3",
   "version": "3.11.4"
  }
 },
 "nbformat": 4,
 "nbformat_minor": 5
}
