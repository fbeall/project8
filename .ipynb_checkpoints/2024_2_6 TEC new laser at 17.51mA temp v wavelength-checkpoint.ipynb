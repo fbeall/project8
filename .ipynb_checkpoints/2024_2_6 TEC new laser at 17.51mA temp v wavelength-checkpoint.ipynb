{
 "cells": [
  {
   "cell_type": "code",
   "execution_count": 1,
   "id": "bb015388",
   "metadata": {},
   "outputs": [],
   "source": [
    "import pandas as pd"
   ]
  },
  {
   "cell_type": "code",
   "execution_count": 2,
   "id": "0c0f61e9",
   "metadata": {},
   "outputs": [],
   "source": [
    "import numpy as np"
   ]
  },
  {
   "cell_type": "code",
   "execution_count": 3,
   "id": "8e2a23d5",
   "metadata": {},
   "outputs": [],
   "source": [
    "# exchanged laser for a new 670nm laser and measuring its behavior as its power changes"
   ]
  },
  {
   "cell_type": "code",
   "execution_count": 4,
   "id": "836ee5ed",
   "metadata": {},
   "outputs": [],
   "source": [
    "# importing data containing wavelength info"
   ]
  },
  {
   "cell_type": "code",
   "execution_count": 7,
   "id": "d51ba006",
   "metadata": {},
   "outputs": [],
   "source": [
    "file1  = '/Users/feb9528/Desktop/files/2024_2_5_TEC/10.001kOhm.csv'\n",
    "file2  = '/Users/feb9528/Desktop/files/2024_2_5_TEC/11.001kOhm.csv'\n",
    "file3  = '/Users/feb9528/Desktop/files/2024_2_5_TEC/12.002kOhm.csv'\n",
    "file4  = '/Users/feb9528/Desktop/files/2024_2_5_TEC/13.002kOhm.csv'\n",
    "file5  = '/Users/feb9528/Desktop/files/2024_2_5_TEC/14.000kOhm.csv'\n",
    "file6  = '/Users/feb9528/Desktop/files/2024_2_5_TEC/15.002kOhm.csv'\n",
    "file7  = '/Users/feb9528/Desktop/files/2024_2_5_TEC/16.002kOhm.csv'\n",
    "file8  = '/Users/feb9528/Desktop/files/2024_2_5_TEC/17.000kOhm.csv'\n",
    "file9  = '/Users/feb9528/Desktop/files/2024_2_5_TEC/18.001kOhm.csv'"
   ]
  },
  {
   "cell_type": "code",
   "execution_count": 8,
   "id": "537f8903",
   "metadata": {},
   "outputs": [],
   "source": [
    "# reading only from the Peak Position (nm [air]) column\n",
    "\n",
    "df1  = pd.read_csv(file1,  skiprows=[0], usecols=[2])\n",
    "df2  = pd.read_csv(file2,  skiprows=[0], usecols=[2])\n",
    "df3  = pd.read_csv(file3,  skiprows=[0], usecols=[2])\n",
    "df4  = pd.read_csv(file4,  skiprows=[0], usecols=[2])\n",
    "df5  = pd.read_csv(file5,  skiprows=[0], usecols=[2])\n",
    "df6  = pd.read_csv(file6,  skiprows=[0], usecols=[2])\n",
    "df7  = pd.read_csv(file7,  skiprows=[0], usecols=[2])\n",
    "df8  = pd.read_csv(file8,  skiprows=[0], usecols=[2])\n",
    "df9  = pd.read_csv(file9,  skiprows=[0], usecols=[2])"
   ]
  },
  {
   "cell_type": "code",
   "execution_count": 9,
   "id": "72580937",
   "metadata": {},
   "outputs": [],
   "source": [
    "# ignore empty values\n",
    "\n",
    "df1  = df1.dropna()\n",
    "df2  = df2.dropna()\n",
    "df3  = df3.dropna()\n",
    "df4  = df4.dropna()\n",
    "df5  = df5.dropna()\n",
    "df6  = df6.dropna()\n",
    "df7  = df7.dropna()\n",
    "df8  = df8.dropna()\n",
    "df9  = df9.dropna()"
   ]
  },
  {
   "cell_type": "code",
   "execution_count": 10,
   "id": "2eb76386",
   "metadata": {},
   "outputs": [],
   "source": [
    "# read the wavelength values from each run to an array\n",
    "\n",
    "lambda1  = df1.values\n",
    "lambda2  = df2.values\n",
    "lambda3  = df3.values\n",
    "lambda4  = df4.values\n",
    "lambda5  = df5.values\n",
    "lambda6  = df6.values\n",
    "lambda7  = df7.values\n",
    "lambda8  = df8.values\n",
    "lambda9  = df9.values"
   ]
  },
  {
   "cell_type": "code",
   "execution_count": 11,
   "id": "a2e8a3b5",
   "metadata": {},
   "outputs": [],
   "source": [
    "# Finding average wavelength of each data run"
   ]
  },
  {
   "cell_type": "code",
   "execution_count": 12,
   "id": "59ef3e43",
   "metadata": {},
   "outputs": [],
   "source": [
    "# append wavelengths to an array\n",
    "wavelengths = []"
   ]
  },
  {
   "cell_type": "code",
   "execution_count": 13,
   "id": "02f7aa17",
   "metadata": {},
   "outputs": [],
   "source": [
    "avg1 = 0\n",
    "for i in lambda1:\n",
    "    avg1 = avg1 + i[0]\n",
    "    \n",
    "avg1 = avg1/len(lambda1)\n",
    "wavelengths.append(avg1)\n",
    "\n",
    "avg2 = 0\n",
    "for i in lambda2:\n",
    "    avg2 = avg2 + i[0]\n",
    "    \n",
    "avg2 = avg2/len(lambda2)\n",
    "wavelengths.append(avg2)\n",
    "\n",
    "avg3 = 0\n",
    "for i in lambda3:\n",
    "    avg3 = avg3 + i[0]\n",
    "    \n",
    "avg3 = avg3/len(lambda3)\n",
    "wavelengths.append(avg3)\n",
    "\n",
    "avg4 = 0\n",
    "for i in lambda4:\n",
    "    avg4 = avg4 + i[0]\n",
    "    \n",
    "avg4 = avg4/len(lambda4)\n",
    "wavelengths.append(avg4)\n",
    "\n",
    "avg5 = 0\n",
    "for i in lambda5:\n",
    "    avg5 = avg5 + i[0]\n",
    "    \n",
    "avg5 = avg5/len(lambda5)\n",
    "wavelengths.append(avg5)\n",
    "\n",
    "avg6 = 0\n",
    "for i in lambda6:\n",
    "    avg6 = avg6 + i[0]\n",
    "    \n",
    "avg6 = avg6/len(lambda6)\n",
    "wavelengths.append(avg6)\n",
    "\n",
    "avg7 = 0\n",
    "for i in lambda7:\n",
    "    avg7 = avg7 + i[0]\n",
    "    \n",
    "avg7 = avg7/len(lambda7)\n",
    "wavelengths.append(avg7)\n",
    "\n",
    "avg8 = 0\n",
    "for i in lambda8:\n",
    "    avg8 = avg8 + i[0]\n",
    "    \n",
    "avg8 = avg8/len(lambda8)\n",
    "wavelengths.append(avg8)\n",
    "\n",
    "avg9 = 0\n",
    "for i in lambda9:\n",
    "    avg9 = avg9 + i[0]\n",
    "    \n",
    "avg9 = avg9/len(lambda9)\n",
    "wavelengths.append(avg9)"
   ]
  },
  {
   "cell_type": "code",
   "execution_count": 14,
   "id": "e701e399",
   "metadata": {},
   "outputs": [
    {
     "data": {
      "text/plain": [
       "9"
      ]
     },
     "execution_count": 14,
     "metadata": {},
     "output_type": "execute_result"
    }
   ],
   "source": [
    "len(wavelengths)"
   ]
  },
  {
   "cell_type": "code",
   "execution_count": 15,
   "id": "c24f987a",
   "metadata": {},
   "outputs": [
    {
     "name": "stdout",
     "output_type": "stream",
     "text": [
      "[670.7730469967751, 670.5861683062491, 670.2539854039604, 670.089538599999, 669.8506469999994, 669.6116943000011, 669.3599439357139, 669.1307858230762, 669.0164584646014]\n"
     ]
    }
   ],
   "source": [
    "print(wavelengths)"
   ]
  },
  {
   "cell_type": "code",
   "execution_count": 16,
   "id": "9d10b8ee",
   "metadata": {},
   "outputs": [],
   "source": [
    "# list of resistances\n",
    "res = [10.001, 11.001, 12.002, 13.002, 14.000, 15.002, 16.002, 17.000, 18.001]"
   ]
  },
  {
   "cell_type": "code",
   "execution_count": 17,
   "id": "38c661e0",
   "metadata": {},
   "outputs": [],
   "source": [
    "# Using the thermistor resistance to temperature forumula from Thorlabs TEC manual and specs of HL6756MG laser"
   ]
  },
  {
   "cell_type": "code",
   "execution_count": 18,
   "id": "c84f044d",
   "metadata": {},
   "outputs": [],
   "source": [
    "# nominal temperature in Kelvin\n",
    "T_o = 298.15\n",
    "\n",
    "# thermistor nominal resistance at nominal temperature in kOhm\n",
    "R_o = 10\n",
    "\n",
    "# energy constant/B value in Kelvin\n",
    "B = 3977\n",
    "\n",
    "# append temperatures to a list\n",
    "temps = []"
   ]
  },
  {
   "cell_type": "code",
   "execution_count": 19,
   "id": "40da5dbb",
   "metadata": {},
   "outputs": [],
   "source": [
    "# Converting resistance to temperature and changing temp in Kelvin to Celcius\n",
    "\n",
    "for i in range(0, len(wavelengths)):\n",
    "    T_K = (B * T_o)/((T_o * np.log(res[i]/R_o)) + B)\n",
    "    T_C = T_K - 273.15\n",
    "    temps.append(T_C)"
   ]
  },
  {
   "cell_type": "code",
   "execution_count": 20,
   "id": "7bb1a624",
   "metadata": {},
   "outputs": [
    {
     "name": "stdout",
     "output_type": "stream",
     "text": [
      "[24.997764940614104, 22.88274925638575, 20.97609617890845, 19.24547968781866, 17.664256281691337, 16.201645682213552, 14.849495196222335, 13.593227994498477, 12.415228857904879]\n"
     ]
    }
   ],
   "source": [
    "print(temps)"
   ]
  },
  {
   "cell_type": "code",
   "execution_count": 21,
   "id": "f8dd6582",
   "metadata": {},
   "outputs": [
    {
     "data": {
      "text/plain": [
       "9"
      ]
     },
     "execution_count": 21,
     "metadata": {},
     "output_type": "execute_result"
    }
   ],
   "source": [
    "len(temps)"
   ]
  },
  {
   "cell_type": "code",
   "execution_count": 22,
   "id": "211bca60",
   "metadata": {},
   "outputs": [],
   "source": [
    "# Plotting temperature vs wavelength graph"
   ]
  },
  {
   "cell_type": "code",
   "execution_count": 23,
   "id": "378b468c",
   "metadata": {},
   "outputs": [],
   "source": [
    "import matplotlib.pyplot as plt\n",
    "from scipy import stats "
   ]
  },
  {
   "cell_type": "code",
   "execution_count": 24,
   "id": "3889044c",
   "metadata": {},
   "outputs": [],
   "source": [
    "# line fit of data\n",
    "fit = stats.linregress(wavelengths, temps)"
   ]
  },
  {
   "cell_type": "code",
   "execution_count": 27,
   "id": "cba85fdb",
   "metadata": {},
   "outputs": [
    {
     "data": {
      "image/png": "[encoded data removed]",
      "text/plain": [
       "<Figure size 640x480 with 1 Axes>"
      ]
     },
     "metadata": {},
     "output_type": "display_data"
    }
   ],
   "source": [
    "plt.plot(wavelengths, temps, 'o', label='original data')\n",
    "plt.plot(wavelengths, fit.intercept + fit.slope*np.array(wavelengths), 'r', label='fitted line')\n",
    "plt.legend()\n",
    "plt.xlabel('Wavelength (nm)')\n",
    "plt.ylabel('Temperature (C)')\n",
    "plt.grid(linewidth=0.1)\n",
    "plt.title('670 nm laser diode with temperature controller (2024-2-5)')\n",
    "# plt.txt? couldn't get it to work\n",
    "plt.show()"
   ]
  },
  {
   "cell_type": "code",
   "execution_count": 26,
   "id": "06a1ce27",
   "metadata": {},
   "outputs": [
    {
     "name": "stdout",
     "output_type": "stream",
     "text": [
      "6.835041634741321\n"
     ]
    }
   ],
   "source": [
    "print(fit.slope)"
   ]
  },
  {
   "cell_type": "code",
   "execution_count": null,
   "id": "71b90e1b",
   "metadata": {},
   "outputs": [],
   "source": []
  }
 ],
 "metadata": {
  "kernelspec": {
   "display_name": "Python 3 (ipykernel)",
   "language": "python",
   "name": "python3"
  },
  "language_info": {
   "codemirror_mode": {
    "name": "ipython",
    "version": 3
   },
   "file_extension": ".py",
   "mimetype": "text/x-python",
   "name": "python",
   "nbconvert_exporter": "python",
   "pygments_lexer": "ipython3",
   "version": "3.11.4"
  }
 },
 "nbformat": 4,
 "nbformat_minor": 5
}
