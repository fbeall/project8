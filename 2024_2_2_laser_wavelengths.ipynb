{
 "cells": [
  {
   "cell_type": "code",
   "execution_count": 1,
   "id": "44e31298",
   "metadata": {},
   "outputs": [],
   "source": [
    "import pandas as pd"
   ]
  },
  {
   "cell_type": "code",
   "execution_count": 3,
   "id": "e0af7aed",
   "metadata": {},
   "outputs": [],
   "source": [
    "# finding room temperature wavelength of the two lasers used to test TEC\n",
    "# 5 min data runs"
   ]
  },
  {
   "cell_type": "code",
   "execution_count": 4,
   "id": "bb70fdb3",
   "metadata": {},
   "outputs": [],
   "source": [
    "# importing data with wavelength info"
   ]
  },
  {
   "cell_type": "code",
   "execution_count": 5,
   "id": "3a1f6ec8",
   "metadata": {},
   "outputs": [],
   "source": [
    "file1 = '/Users/feb9528/Desktop/files/2024_2_2_TEC/laser1_14.02mA_11.1kOhm_TEC_off_5min.csv'\n",
    "file2 = '/Users/feb9528/Desktop/files/2024_2_2_TEC/laser2_14.02mA_11.6kOhm_TEC_off_5min.csv'"
   ]
  },
  {
   "cell_type": "code",
   "execution_count": 6,
   "id": "7608584f",
   "metadata": {},
   "outputs": [],
   "source": [
    "# reading only from the Peak Position (nm [air]) column\n",
    "\n",
    "df1  = pd.read_csv(file1,  skiprows=[0], usecols=[2])\n",
    "df2  = pd.read_csv(file2,  skiprows=[0], usecols=[2])"
   ]
  },
  {
   "cell_type": "code",
   "execution_count": 7,
   "id": "81c617f4",
   "metadata": {},
   "outputs": [],
   "source": [
    "# ignore empty values\n",
    "\n",
    "df1  = df1.dropna()\n",
    "df2  = df2.dropna()"
   ]
  },
  {
   "cell_type": "code",
   "execution_count": 8,
   "id": "bd1c6d40",
   "metadata": {},
   "outputs": [],
   "source": [
    "# read the wavelength values from each run to an array\n",
    "\n",
    "lambda1  = df1.values\n",
    "lambda2  = df2.values"
   ]
  },
  {
   "cell_type": "code",
   "execution_count": 9,
   "id": "1fc023bb",
   "metadata": {},
   "outputs": [],
   "source": [
    "# Finding average wavelength of each data run"
   ]
  },
  {
   "cell_type": "code",
   "execution_count": 12,
   "id": "4220ed10",
   "metadata": {},
   "outputs": [],
   "source": [
    "avg1 = 0\n",
    "for i in lambda1:\n",
    "    avg1 = avg1 + i[0]\n",
    "    \n",
    "avg1 = avg1/len(lambda1)\n",
    "\n",
    "avg2 = 0\n",
    "for i in lambda2:\n",
    "    avg2 = avg2 + i[0]\n",
    "    \n",
    "avg2 = avg2/len(lambda2)"
   ]
  },
  {
   "cell_type": "code",
   "execution_count": 13,
   "id": "834825f0",
   "metadata": {},
   "outputs": [
    {
     "name": "stdout",
     "output_type": "stream",
     "text": [
      "670.359620102157\n"
     ]
    }
   ],
   "source": [
    "# laser 1: was acting normal, took 2 data runs with it\n",
    "\n",
    "print(avg1)"
   ]
  },
  {
   "cell_type": "code",
   "execution_count": 14,
   "id": "afe64132",
   "metadata": {},
   "outputs": [
    {
     "name": "stdout",
     "output_type": "stream",
     "text": [
      "670.4184122910058\n"
     ]
    }
   ],
   "source": [
    "# laser 2: noticably less intense than laser 1, couldn't stablize at 20kOhm for some reason\n",
    "\n",
    "print(avg2)"
   ]
  }
 ],
 "metadata": {
  "kernelspec": {
   "display_name": "Python 3 (ipykernel)",
   "language": "python",
   "name": "python3"
  },
  "language_info": {
   "codemirror_mode": {
    "name": "ipython",
    "version": 3
   },
   "file_extension": ".py",
   "mimetype": "text/x-python",
   "name": "python",
   "nbconvert_exporter": "python",
   "pygments_lexer": "ipython3",
   "version": "3.11.4"
  }
 },
 "nbformat": 4,
 "nbformat_minor": 5
}
